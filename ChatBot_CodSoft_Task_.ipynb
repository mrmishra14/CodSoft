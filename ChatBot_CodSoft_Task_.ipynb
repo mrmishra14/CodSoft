{
  "nbformat": 4,
  "nbformat_minor": 0,
  "metadata": {
    "colab": {
      "provenance": []
    },
    "kernelspec": {
      "name": "python3",
      "display_name": "Python 3"
    },
    "language_info": {
      "name": "python"
    },
    "widgets": {
      "application/vnd.jupyter.widget-state+json": {
        "c079f2e2704142c8adcad4156d04084c": {
          "model_module": "@jupyter-widgets/controls",
          "model_name": "TextModel",
          "model_module_version": "1.5.0",
          "state": {
            "_dom_classes": [],
            "_model_module": "@jupyter-widgets/controls",
            "_model_module_version": "1.5.0",
            "_model_name": "TextModel",
            "_view_count": null,
            "_view_module": "@jupyter-widgets/controls",
            "_view_module_version": "1.5.0",
            "_view_name": "TextView",
            "continuous_update": true,
            "description": "",
            "description_tooltip": null,
            "disabled": false,
            "layout": "IPY_MODEL_7e7b745d31f44f259a6c201c712ed7ea",
            "placeholder": "Type your message here...",
            "style": "IPY_MODEL_479d899f22864b3597d22399c7326ae7",
            "value": ""
          }
        },
        "7e7b745d31f44f259a6c201c712ed7ea": {
          "model_module": "@jupyter-widgets/base",
          "model_name": "LayoutModel",
          "model_module_version": "1.2.0",
          "state": {
            "_model_module": "@jupyter-widgets/base",
            "_model_module_version": "1.2.0",
            "_model_name": "LayoutModel",
            "_view_count": null,
            "_view_module": "@jupyter-widgets/base",
            "_view_module_version": "1.2.0",
            "_view_name": "LayoutView",
            "align_content": null,
            "align_items": null,
            "align_self": null,
            "border": null,
            "bottom": null,
            "display": null,
            "flex": null,
            "flex_flow": null,
            "grid_area": null,
            "grid_auto_columns": null,
            "grid_auto_flow": null,
            "grid_auto_rows": null,
            "grid_column": null,
            "grid_gap": null,
            "grid_row": null,
            "grid_template_areas": null,
            "grid_template_columns": null,
            "grid_template_rows": null,
            "height": null,
            "justify_content": null,
            "justify_items": null,
            "left": null,
            "margin": null,
            "max_height": null,
            "max_width": null,
            "min_height": null,
            "min_width": null,
            "object_fit": null,
            "object_position": null,
            "order": null,
            "overflow": null,
            "overflow_x": null,
            "overflow_y": null,
            "padding": null,
            "right": null,
            "top": null,
            "visibility": null,
            "width": null
          }
        },
        "479d899f22864b3597d22399c7326ae7": {
          "model_module": "@jupyter-widgets/controls",
          "model_name": "DescriptionStyleModel",
          "model_module_version": "1.5.0",
          "state": {
            "_model_module": "@jupyter-widgets/controls",
            "_model_module_version": "1.5.0",
            "_model_name": "DescriptionStyleModel",
            "_view_count": null,
            "_view_module": "@jupyter-widgets/base",
            "_view_module_version": "1.2.0",
            "_view_name": "StyleView",
            "description_width": ""
          }
        }
      }
    }
  },
  "cells": [
    {
      "cell_type": "code",
      "execution_count": 2,
      "metadata": {
        "colab": {
          "base_uri": "https://localhost:8080/",
          "height": 140,
          "referenced_widgets": [
            "c079f2e2704142c8adcad4156d04084c",
            "7e7b745d31f44f259a6c201c712ed7ea",
            "479d899f22864b3597d22399c7326ae7"
          ]
        },
        "id": "bzhHWkAQKzCR",
        "outputId": "6dcce408-b509-4809-9a87-850079d9818d"
      },
      "outputs": [
        {
          "output_type": "stream",
          "name": "stdout",
          "text": [
            "Welcome to the simple chatbot. Type 'exit' to end the conversation.\n"
          ]
        },
        {
          "output_type": "display_data",
          "data": {
            "text/plain": [
              "Text(value='', placeholder='Type your message here...')"
            ],
            "application/vnd.jupyter.widget-view+json": {
              "version_major": 2,
              "version_minor": 0,
              "model_id": "c079f2e2704142c8adcad4156d04084c"
            }
          },
          "metadata": {}
        },
        {
          "output_type": "stream",
          "name": "stdout",
          "text": [
            "You: hello\n",
            "Chatbot: Hello! How can I help you today?\n",
            "You: how are you\n",
            "Chatbot: I'm just a bot, but I'm here to help you!\n"
          ]
        }
      ],
      "source": [
        "import ipywidgets as widgets\n",
        "from IPython.display import display\n",
        "\n",
        "# Define a function to handle user input and generate responses\n",
        "def simple_chatbot(input_text):\n",
        "    text = input_text.lower().strip()\n",
        "    if \"hello\" in text or \"hi\" in text:\n",
        "        return \"Hello! How can I help you today?\"\n",
        "    elif \"how are you\" in text:\n",
        "        return \"I'm just a bot, but I'm here to help you!\"\n",
        "    elif \"bye\" in text or \"goodbye\" in text:\n",
        "        return \"Goodbye! Have a great day!\"\n",
        "    elif \"what is your name\" in text or \"who are you\" in text:\n",
        "        return \"I am a simple chatbot created to assist you.\"\n",
        "    elif \"what is your qualification\" in text or \"what can you do\" in text:\n",
        "        return \"I am programmed to answer simple questions and have basic conversations.\"\n",
        "    elif \"how old are you\" in text:\n",
        "        return \"I don't have an age, I'm just a program.\"\n",
        "    else:\n",
        "        return \"Sorry, I didn't understand that. Can you please rephrase?\"\n",
        "\n",
        "# Define the chatbot interaction\n",
        "def on_submit(input_box):\n",
        "    user_input = input_box.value\n",
        "    if user_input.lower().strip() == \"exit\":\n",
        "        print(\"Chatbot: Goodbye!\")\n",
        "        return\n",
        "    response = simple_chatbot(user_input)\n",
        "    print(\"You: \" + user_input)\n",
        "    print(\"Chatbot: \" + response)\n",
        "    input_box.value = ''\n",
        "\n",
        "# Create an input box for user input\n",
        "input_box = widgets.Text(placeholder='Type your message here...')\n",
        "input_box.on_submit(on_submit)\n",
        "\n",
        "print(\"Welcome to the simple chatbot. Type 'exit' to end the conversation.\")\n",
        "display(input_box)\n"
      ]
    }
  ]
}